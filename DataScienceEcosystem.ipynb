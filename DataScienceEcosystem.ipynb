{
 "cells": [
  {
   "cell_type": "markdown",
   "id": "9b1df7c9-4191-4aa5-9393-80c4822f1405",
   "metadata": {},
   "source": [
    "# **Data Science Tools and Ecosystem**"
   ]
  },
  {
   "cell_type": "markdown",
   "id": "a799e7ab-9ab2-46f1-a0be-57f0a2f411ca",
   "metadata": {},
   "source": [
    "In this notebook, Data Science Tools and Ecosystem are summarized"
   ]
  },
  {
   "cell_type": "markdown",
   "id": "878fff60-1ae9-43f3-b5ca-a0172f3bcc05",
   "metadata": {},
   "source": [
    "**Objectives:**\n",
    "- List popular languages for Data Science\n",
    "- evaluating arithmetic expressions\n",
    "- Data Science Tools"
   ]
  },
  {
   "cell_type": "markdown",
   "id": "e2d8cd68-bfba-40f9-b4ea-d5dd61d87909",
   "metadata": {},
   "source": [
    "**Some of the popular languages that Data Scientists use are:**\n",
    "1. Python\n",
    "2. R\n",
    "3. SQL\n",
    "4. Java\n",
    "5. Julia\n",
    "6. Scala"
   ]
  },
  {
   "cell_type": "markdown",
   "id": "c2ece117-06ee-49f4-a12d-2f13bb237acf",
   "metadata": {},
   "source": [
    "**Some of the commonly used libraries used by Data Scientists include:**\n",
    "1. Pandas\n",
    "2. Numpy\n",
    "3. Matplotlib\n",
    "4. Scikitlearn"
   ]
  },
  {
   "cell_type": "markdown",
   "id": "c5129347-9818-4f8f-b57c-4cc3c80e1f65",
   "metadata": {},
   "source": [
    "|Data Science Tools|\n",
    "| --------------|\n",
    "|JupyterNotebook|\n",
    "|Rstudio|\n",
    "|Apache Zeppelin|\n"
   ]
  },
  {
   "cell_type": "markdown",
   "id": "07592813-3f1e-410a-8b6b-e235c223fe5e",
   "metadata": {},
   "source": [
    "### Below are a few examples of evaluating arithmetic expressions in Python"
   ]
  },
  {
   "cell_type": "code",
   "execution_count": 2,
   "id": "febeebae-d5bc-44ce-a0df-6f8707aab5f4",
   "metadata": {},
   "outputs": [
    {
     "data": {
      "text/plain": [
       "17"
      ]
     },
     "execution_count": 2,
     "metadata": {},
     "output_type": "execute_result"
    }
   ],
   "source": [
    "#This a simple arithmetic expression to mutiply then add integers\n",
    "(3*4)+5"
   ]
  },
  {
   "cell_type": "code",
   "execution_count": 3,
   "id": "714feb6d-29d5-49e3-a6ac-5e109c66aeb3",
   "metadata": {},
   "outputs": [
    {
     "name": "stdout",
     "output_type": "stream",
     "text": [
      "3.3333333333333335 hours\n"
     ]
    }
   ],
   "source": [
    "#This will convert 200 minutes to hours by diving by 60\n",
    "a = 200\n",
    "print(a/60,\"hours\")"
   ]
  },
  {
   "cell_type": "markdown",
   "id": "3a05bc8c-6672-4f71-b576-1a23ecd74057",
   "metadata": {},
   "source": [
    "Author: **Ishhaq**"
   ]
  },
  {
   "cell_type": "code",
   "execution_count": null,
   "id": "b5d6fb5f-2ea9-460a-a86c-cfedad82de20",
   "metadata": {},
   "outputs": [],
   "source": []
  }
 ],
 "metadata": {
  "kernelspec": {
   "display_name": "Python 3 (ipykernel)",
   "language": "python",
   "name": "python3"
  },
  "language_info": {
   "codemirror_mode": {
    "name": "ipython",
    "version": 3
   },
   "file_extension": ".py",
   "mimetype": "text/x-python",
   "name": "python",
   "nbconvert_exporter": "python",
   "pygments_lexer": "ipython3",
   "version": "3.11.9"
  }
 },
 "nbformat": 4,
 "nbformat_minor": 5
}
